{
  "nbformat": 4,
  "nbformat_minor": 0,
  "metadata": {
    "colab": {
      "provenance": [],
      "authorship_tag": "ABX9TyPgJEneqScdK9yPJq0Etvod",
      "include_colab_link": true
    },
    "kernelspec": {
      "name": "python3",
      "display_name": "Python 3"
    },
    "language_info": {
      "name": "python"
    }
  },
  "cells": [
    {
      "cell_type": "markdown",
      "metadata": {
        "id": "view-in-github",
        "colab_type": "text"
      },
      "source": [
        "<a href=\"https://colab.research.google.com/github/premkumar6/premkumar6/blob/main/Si542_Code.ipynb\" target=\"_parent\"><img src=\"https://colab.research.google.com/assets/colab-badge.svg\" alt=\"Open In Colab\"/></a>"
      ]
    },
    {
      "cell_type": "code",
      "execution_count": 1,
      "metadata": {
        "id": "7ZoYz6fU8mBH"
      },
      "outputs": [],
      "source": [
        "import matplotlib.pyplot as plt"
      ]
    },
    {
      "cell_type": "code",
      "source": [
        "def get_valid_user_input(prompt, valid_responses):\n",
        "    while True:\n",
        "        response = input(prompt).lower()\n",
        "        if response in valid_responses:\n",
        "            return response\n",
        "        else:\n",
        "            print(\"Invalid input.\")\n",
        "\n",
        "\n",
        "def get_patient_info():\n",
        "    gender = get_valid_user_input(\"Please input the patient's gender (m/f): \", [\"m\", \"f\"])\n",
        "    age = int(input(\"Please input the patient's age: \"))\n",
        "    HBV = get_valid_user_input(\"Is the patient HBeAG+ or HBeAG-? Enter + or -: \", [\"+\", \"-\"])\n",
        "    return gender, age, HBV\n",
        "\n",
        "\n",
        "def determine_risk(gender, age, ALT, ULN, HBV):\n",
        "    risk_scores = {\n",
        "        \"m\": {\"yes\": {\"40+\": \"10-15\", \"<40\": \"8-10\"}, \"no\": {\"40+\": \"12-16\", \"<40\": \"10-11\"}},\n",
        "        \"f\": {\"yes\": {\"40+\": \"8-13\", \"<40\": \"6-8\"}, \"no\": {\"40+\": \"10-14\", \"<40\": \"8-9\"}},\n",
        "    }\n",
        "\n",
        "    if ULN == \"no\":\n",
        "        ULN = get_valid_user_input(\n",
        "            \"Is the patient's ALT score greater than twice than their ULN score: Enter yes or no: \",\n",
        "            [\"yes\", \"no\"],\n",
        "        )\n",
        "        if ULN == \"yes\":\n",
        "            if gender == \"m\":\n",
        "                risk = \"10-16\"\n",
        "            else:\n",
        "                risk = \"8-14\"\n",
        "\n",
        "    age_group = \"40+\" if age > 40 else \"<40\"\n",
        "\n",
        "    risk = risk_scores[gender][ALT][age_group]\n",
        "    return risk\n",
        "\n",
        "\n",
        "def plot_graph(data):\n",
        "    risk_scores = list(data.keys())\n",
        "    counts = list(data.values())\n",
        "\n",
        "    plt.bar(risk_scores, counts)\n",
        "    plt.xlabel(\"Risk Scores\")\n",
        "    plt.ylabel(\"Counts\")\n",
        "    plt.title(\"Distribution of Risk Scores\")\n",
        "    plt.show()\n",
        "\n",
        "\n",
        "def run_script():\n",
        "    data = {} 
        "    for _ in range(2):  
        "        gender, age, HBV = get_patient_info()\n",
        "\n",
        "        ALT = get_valid_user_input(\n",
        "            \"Is the patient's ALT score lower than their ULN score: Enter yes or no: \",\n",
        "            [\"yes\", \"no\"],\n",
        "        )\n",
        "        ULN = get_valid_user_input(\n",
        "            \"Is the patient's ALT score greater than twice than their ULN score: Enter yes or no: \",\n",
        "            [\"yes\", \"no\"],\n",
        "        )\n",
        "\n",
        "        risk = determine_risk(gender, age, ALT, ULN, HBV)\n",
        "        print(f\"The patient's risk score is {risk}\")\n",
        "\n",
        "        if risk in data:\n",
        "            data[risk] += 1\n",
        "        else:\n",
        "            data[risk] = 1\n",
        "\n",
        "    plot_graph(data)\n",
        "\n",
        "\n",
        "if __name__ == \"__main__\":\n",
        "    run_script()\n"
      ],
      "metadata": {
        "colab": {
          "base_uri": "https://localhost:8080/",
          "height": 686
        },
        "id": "PFYzOtr88tK9",
        "outputId": "a72a8b34-20a6-45f6-9a13-1d4977dbb67d"
      },
      "execution_count": 4,
      "outputs": [
        {
          "output_type": "stream",
          "name": "stdout",
          "text": [
            "Please input the patient's gender (m/f): m\n",
            "Please input the patient's age: 21\n",
            "Is the patient HBeAG+ or HBeAG-? Enter + or -: +\n",
            "Is the patient's ALT score lower than their ULN score: Enter yes or no: yes\n",
            "Is the patient's ALT score greater than twice than their ULN score: Enter yes or no: yes\n",
            "The patient's risk score is 8-10\n",
            "Please input the patient's gender (m/f): f\n",
            "Please input the patient's age: 22\n",
            "Is the patient HBeAG+ or HBeAG-? Enter + or -: -\n",
            "Is the patient's ALT score lower than their ULN score: Enter yes or no: yes\n",
            "Is the patient's ALT score greater than twice than their ULN score: Enter yes or no: yes\n",
            "The patient's risk score is 6-8\n"
          ]
        },
        {
          "output_type": "display_data",
          "data": {
            "text/plain": [
              "<Figure size 640x480 with 1 Axes>"
            ],
            "image/png": "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\n"
          },
          "metadata": {}
        }
      ]
    }
  ]
}
